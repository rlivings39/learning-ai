{
 "cells": [
  {
   "cell_type": "markdown",
   "id": "82d1cdba",
   "metadata": {},
   "source": [
    "Working through the linear regression section of Dive Into Deep Learning. This notebook has the interactive features [./linear_regression.py](./linear_regression.py) has the non-trivial code."
   ]
  },
  {
   "cell_type": "code",
   "execution_count": null,
   "id": "2d49517d",
   "metadata": {},
   "outputs": [],
   "source": [
    "import time\n",
    "\n",
    "import numpy as np\n",
    "import torch\n",
    "from d2l import torch as d2l\n",
    "from torch import nn\n",
    "from linear_regression import Module, SyntheticRegressionData, LinearRegressionScratch, Trainer"
   ]
  },
  {
   "cell_type": "code",
   "execution_count": 2,
   "id": "bfb3683b",
   "metadata": {},
   "outputs": [],
   "source": [
    "# board = d2l.ProgressBoard('x')\n",
    "# for x in np.arange(0, 10, 0.1):\n",
    "#     board.draw(x, np.sin(x), 'sin', every_n=2)\n",
    "#     board.draw(x, np.sin(x), 'cos', every_n=10)"
   ]
  },
  {
   "cell_type": "code",
   "execution_count": 3,
   "id": "5894d7a2",
   "metadata": {},
   "outputs": [
    {
     "name": "stdout",
     "output_type": "stream",
     "text": [
      "features: tensor([-1.5986, -0.9514])\n",
      "label: tensor([4.2258])\n",
      "X shape: torch.Size([32, 2])\n",
      "y shape: torch.Size([32, 1])\n"
     ]
    }
   ],
   "source": [
    "data = SyntheticRegressionData(w=torch.tensor([2, -3.4]), b=4.2)\n",
    "print(f'features: {data.X[0]}\\nlabel: {data.y[0]}')\n",
    "X, y = next(iter(data.train_dataloader()))\n",
    "print(f'X shape: {X.shape}\\ny shape: {y.shape}')"
   ]
  },
  {
   "cell_type": "code",
   "execution_count": null,
   "id": "284041e8",
   "metadata": {},
   "outputs": [],
   "source": [
    "model = LinearRegressionScratch(num_inputs=2, learning_rate=0.03)\n",
    "data = SyntheticRegressionData(w=torch.tensor([2,-3.4]), b=4.2)\n",
    "trainer = Trainer(max_epochs=3)\n",
    "trainer.fit(model, data)\n",
    "\n",
    "with torch.no_grad():\n",
    "    print(f'Error in estimating w: {data.w - model.w.reshape(data.w.shape)}')\n",
    "    print(f'Error in estimating b: {data.b - model.b}')"
   ]
  }
 ],
 "metadata": {
  "kernelspec": {
   "display_name": "venv",
   "language": "python",
   "name": "python3"
  },
  "language_info": {
   "codemirror_mode": {
    "name": "ipython",
    "version": 3
   },
   "file_extension": ".py",
   "mimetype": "text/x-python",
   "name": "python",
   "nbconvert_exporter": "python",
   "pygments_lexer": "ipython3",
   "version": "3.9.23"
  }
 },
 "nbformat": 4,
 "nbformat_minor": 5
}
