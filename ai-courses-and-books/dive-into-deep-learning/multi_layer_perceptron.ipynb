{
 "cells": [
  {
   "cell_type": "code",
   "execution_count": null,
   "id": "b0b4e682",
   "metadata": {},
   "outputs": [],
   "source": [
    "from ryan_learning import MultiLayerPerceptronScratch, FashionMNIST, Trainer"
   ]
  },
  {
   "cell_type": "code",
   "execution_count": null,
   "id": "888bd86b",
   "metadata": {},
   "outputs": [],
   "source": [
    "model = MultiLayerPerceptronScratch(num_inputs=784, num_outputs=10, num_hiddens=256, learning_rate=0.1)\n",
    "data = FashionMNIST(batch_size=256)\n",
    "trainer = Trainer(max_epochs=10)\n",
    "trainer.fit(model, data)"
   ]
  }
 ],
 "metadata": {
  "kernelspec": {
   "display_name": "venv",
   "language": "python",
   "name": "python3"
  },
  "language_info": {
   "codemirror_mode": {
    "name": "ipython",
    "version": 3
   },
   "file_extension": ".py",
   "mimetype": "text/x-python",
   "name": "python",
   "nbconvert_exporter": "python",
   "pygments_lexer": "ipython3",
   "version": "3.9.23"
  }
 },
 "nbformat": 4,
 "nbformat_minor": 5
}
